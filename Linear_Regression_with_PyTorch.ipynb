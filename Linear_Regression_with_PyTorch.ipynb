{
  "nbformat": 4,
  "nbformat_minor": 0,
  "metadata": {
    "colab": {
      "name": "Linear Regression with PyTorch.ipynb",
      "version": "0.3.2",
      "provenance": [],
      "collapsed_sections": []
    },
    "kernelspec": {
      "name": "python3",
      "display_name": "Python 3"
    }
  },
  "cells": [
    {
      "cell_type": "markdown",
      "metadata": {
        "id": "PUsNQkPBqZ2C",
        "colab_type": "text"
      },
      "source": [
        "# Linear Regression with PyTorch\n",
        "In this section we'll use PyTorch's machine learning model to progressively develop a best-fit line for a given set of data points. Like most linear regression algorithms, we're seeking to minimize the error between our model and the actual data, using a <em>loss function</em> like mean-squared-error.\n",
        "\n",
        "<img src='linear-regression-residuals.png' width='400' style=\"display: inline-block\"><br>\n",
        "\n",
        "Image source: <a href='https://commons.wikimedia.org/wiki/File:Residuals_for_Linear_Regression_Fit.png'>https://commons.wikimedia.org/wiki/File:Residuals_for_Linear_Regression_Fit.png</a>\n",
        "\n",
        "To start, we'll develop a collection of data points that appear random, but that fit a known linear equation $y = 2x+1$"
      ]
    },
    {
      "cell_type": "code",
      "metadata": {
        "id": "AyS_psLoyn95",
        "colab_type": "code",
        "colab": {}
      },
      "source": [
        ""
      ],
      "execution_count": 0,
      "outputs": []
    },
    {
      "cell_type": "markdown",
      "metadata": {
        "id": "uCpdWLnoqfCY",
        "colab_type": "text"
      },
      "source": [
        "## Perform standard imports"
      ]
    },
    {
      "cell_type": "code",
      "metadata": {
        "id": "C3y6WmnhqfY5",
        "colab_type": "code",
        "colab": {}
      },
      "source": [
        "import torch\n",
        "import torch.nn as nn  # we'll use this a lot going forward!\n",
        "\n",
        "import numpy as np\n",
        "import matplotlib.pyplot as plt\n",
        "%matplotlib inline"
      ],
      "execution_count": 0,
      "outputs": []
    },
    {
      "cell_type": "markdown",
      "metadata": {
        "id": "9D9OhWH0qnVk",
        "colab_type": "text"
      },
      "source": [
        "## Create a column matrix of X values\n",
        "We can create tensors right away rather than convert from NumPy arrays."
      ]
    },
    {
      "cell_type": "code",
      "metadata": {
        "id": "pW2dytKWqn1X",
        "colab_type": "code",
        "colab": {}
      },
      "source": [
        "X = torch.linspace(1,50,50).reshape(-1,1)        # 50 linearly space element from 1 to 50\n",
        "\n",
        "# Equivalent to\n",
        "# X = torch.unsqueeze(torch.linspace(1,50,50), dim=1)"
      ],
      "execution_count": 0,
      "outputs": []
    },
    {
      "cell_type": "markdown",
      "metadata": {
        "id": "XcOaRC1IqzYU",
        "colab_type": "text"
      },
      "source": [
        "## Create a \"random\" array of error values\n",
        "We want 50 random integer values that collectively cancel each other out."
      ]
    },
    {
      "cell_type": "code",
      "metadata": {
        "id": "369R-eUlqz98",
        "colab_type": "code",
        "colab": {
          "base_uri": "https://localhost:8080/",
          "height": 34
        },
        "outputId": "268eb1af-40ac-4562-a8ab-bee1e536ca4a"
      },
      "source": [
        "torch.manual_seed(71) # to obtain reproducible results\n",
        "\n",
        "e = torch.randint(-8,9,(50,1),dtype=torch.float)       # low -8, high 9, size 50 rows 1 cols\n",
        "\n",
        "print(e.sum())"
      ],
      "execution_count": 3,
      "outputs": [
        {
          "output_type": "stream",
          "text": [
            "tensor(0.)\n"
          ],
          "name": "stdout"
        }
      ]
    },
    {
      "cell_type": "markdown",
      "metadata": {
        "id": "3sSdPkLPq_O-",
        "colab_type": "text"
      },
      "source": [
        "## Create a column matrix of y values\n",
        "Here we'll set our own parameters of $\\mathrm {weight} = 2,\\; \\mathrm {bias} = 1$, plus the error amount.<br><strong><tt>y</tt></strong> will have the same shape as <strong><tt>X</tt></strong> and <strong><tt>e</tt></strong>"
      ]
    },
    {
      "cell_type": "code",
      "metadata": {
        "id": "O0O6m8sFq_m7",
        "colab_type": "code",
        "colab": {
          "base_uri": "https://localhost:8080/",
          "height": 34
        },
        "outputId": "f324b97e-dee3-41b8-b1a3-7ae4c3c4d418"
      },
      "source": [
        "y = 2*X + 1 + e\n",
        "print(y.shape)"
      ],
      "execution_count": 4,
      "outputs": [
        {
          "output_type": "stream",
          "text": [
            "torch.Size([50, 1])\n"
          ],
          "name": "stdout"
        }
      ]
    },
    {
      "cell_type": "markdown",
      "metadata": {
        "id": "A2CCcdmWrJ5o",
        "colab_type": "text"
      },
      "source": [
        "## Plot the results\n",
        "We have to convert tensors to NumPy arrays just for plotting."
      ]
    },
    {
      "cell_type": "code",
      "metadata": {
        "id": "Be-aj_XmrKRE",
        "colab_type": "code",
        "colab": {
          "base_uri": "https://localhost:8080/",
          "height": 283
        },
        "outputId": "c0a2425d-9162-418a-c548-c886fb491e4c"
      },
      "source": [
        "plt.scatter(X.numpy(), y.numpy())\n",
        "\n",
        "plt.ylabel('y')\n",
        "plt.xlabel('x');"
      ],
      "execution_count": 5,
      "outputs": [
        {
          "output_type": "display_data",
          "data": {
            "image/png": "[encoded data removed]",
            "text/plain": [
              "<Figure size 432x288 with 1 Axes>"
            ]
          },
          "metadata": {
            "tags": []
          }
        }
      ]
    },
    {
      "cell_type": "markdown",
      "metadata": {
        "id": "of4gI2DHrPfw",
        "colab_type": "text"
      },
      "source": [
        "Note that when we created tensor $X$, we did <em>not</em> pass <tt>requires_grad=True</tt>. This means that $y$ doesn't have a gradient function, and <tt>y.backward()</tt> won't work. Since PyTorch is not tracking operations, it doesn't know the relationship between $X$ and $y$."
      ]
    },
    {
      "cell_type": "markdown",
      "metadata": {
        "id": "F_43tgYCreax",
        "colab_type": "text"
      },
      "source": [
        "## Simple linear model\n",
        "As a quick demonstration we'll show how the built-in <tt>nn.Linear()</tt> model preselects weight and bias values at random."
      ]
    },
    {
      "cell_type": "code",
      "metadata": {
        "id": "cStsnutKre1c",
        "colab_type": "code",
        "colab": {
          "base_uri": "https://localhost:8080/",
          "height": 85
        },
        "outputId": "7e01e617-1e99-444e-be5f-00c61986abe3"
      },
      "source": [
        "torch.manual_seed(59)\n",
        "\n",
        "model = nn.Linear(in_features=1, out_features=1)\n",
        "\n",
        "print(model.weight)\n",
        "\n",
        "print(model.bias)"
      ],
      "execution_count": 6,
      "outputs": [
        {
          "output_type": "stream",
          "text": [
            "Parameter containing:\n",
            "tensor([[0.1060]], requires_grad=True)\n",
            "Parameter containing:\n",
            "tensor([0.9638], requires_grad=True)\n"
          ],
          "name": "stdout"
        }
      ]
    },
    {
      "cell_type": "markdown",
      "metadata": {
        "id": "JnqT3ilqrsrD",
        "colab_type": "text"
      },
      "source": [
        "Without seeing any data, the model sets a random weight of 0.1060 and a bias of 0.9638."
      ]
    },
    {
      "cell_type": "markdown",
      "metadata": {
        "id": "FUZw-NNdryyU",
        "colab_type": "text"
      },
      "source": [
        "## Model classes\n",
        "PyTorch lets us define models as object classes that can store multiple model layers. In upcoming sections we'll set up several neural network layers, and determine how each layer should perform its forward pass to the next layer. For now, though, we only need a single <tt>linear</tt> layer."
      ]
    },
    {
      "cell_type": "code",
      "metadata": {
        "id": "bw43KbKtrzKH",
        "colab_type": "code",
        "colab": {}
      },
      "source": [
        "class Model(nn.Module):\n",
        "  \n",
        "    def __init__(self, in_features, out_features):\n",
        "      \n",
        "        super().__init__()\n",
        "        self.linear = nn.Linear(in_features, out_features)\n",
        "        \n",
        "        \n",
        "    def forward(self, x):\n",
        "      \n",
        "        y_pred = self.linear(x)\n",
        "        return y_pred"
      ],
      "execution_count": 0,
      "outputs": []
    },
    {
      "cell_type": "markdown",
      "metadata": {
        "id": "KBfr6M0-r9zH",
        "colab_type": "text"
      },
      "source": [
        "<div class=\"alert alert-info\"><strong>NOTE:</strong> The \"Linear\" model layer used here doesn't really refer to linear regression. Instead, it describes the type of neural network layer employed. Linear layers are also called \"fully connected\" or \"dense\" layers. Going forward our models may contain linear layers, convolutional layers, and more.</div>"
      ]
    },
    {
      "cell_type": "markdown",
      "metadata": {
        "id": "6YOAR7mYsAU0",
        "colab_type": "text"
      },
      "source": [
        "When <tt>Model</tt> is instantiated, we need to pass in the size (dimensions) of the incoming and outgoing features. For our purposes we'll use (1,1).<br>As above, we can see the initial hyperparameters."
      ]
    },
    {
      "cell_type": "code",
      "metadata": {
        "id": "WV24XYS2sAwq",
        "colab_type": "code",
        "colab": {
          "base_uri": "https://localhost:8080/",
          "height": 102
        },
        "outputId": "4c2844b9-cdfe-4612-e624-fe81e00975e6"
      },
      "source": [
        "torch.manual_seed(59)\n",
        "\n",
        "model = Model(1, 1)                # we have one input feature and ine output feature\n",
        "\n",
        "print(model)\n",
        "\n",
        "print('Weight:', model.linear.weight.item())\n",
        "print('Bias:  ', model.linear.bias.item())"
      ],
      "execution_count": 8,
      "outputs": [
        {
          "output_type": "stream",
          "text": [
            "Model(\n",
            "  (linear): Linear(in_features=1, out_features=1, bias=True)\n",
            ")\n",
            "Weight: 0.10597813129425049\n",
            "Bias:   0.9637961387634277\n"
          ],
          "name": "stdout"
        }
      ]
    },
    {
      "cell_type": "markdown",
      "metadata": {
        "id": "8g-ZyHFxtRMQ",
        "colab_type": "text"
      },
      "source": [
        "As models become more complex, it may be better to iterate over all the model parameters:"
      ]
    },
    {
      "cell_type": "code",
      "metadata": {
        "id": "EjyK2ygEtRmE",
        "colab_type": "code",
        "colab": {
          "base_uri": "https://localhost:8080/",
          "height": 51
        },
        "outputId": "b45817ec-5172-4e84-e176-8043866fadc7"
      },
      "source": [
        "for name, param in model.named_parameters():              # named_parameters comes as we inherited from nn.Module and initialized the init() of super\n",
        "  \n",
        "    print(name, '\\t', param.item())"
      ],
      "execution_count": 9,
      "outputs": [
        {
          "output_type": "stream",
          "text": [
            "linear.weight \t 0.10597813129425049\n",
            "linear.bias \t 0.9637961387634277\n"
          ],
          "name": "stdout"
        }
      ]
    },
    {
      "cell_type": "markdown",
      "metadata": {
        "id": "AmnT-cqktuqn",
        "colab_type": "text"
      },
      "source": [
        "<div class=\"alert alert-info\"><strong>NOTE:</strong> In the above example we had our Model class accept arguments for the number of input and output features.<br>For simplicity we can hardcode them into the Model:\n",
        "         \n",
        "<tt><font color=black>\n",
        "class Model(torch.nn.Module):<br>\n",
        "&nbsp;&nbsp;&nbsp;&nbsp;def \\_\\_init\\_\\_(self):<br>\n",
        "&nbsp;&nbsp;&nbsp;&nbsp;&nbsp;&nbsp;&nbsp;&nbsp;super().\\_\\_init\\_\\_()<br>\n",
        "&nbsp;&nbsp;&nbsp;&nbsp;&nbsp;&nbsp;&nbsp;&nbsp;self.linear = Linear(1,1)<br><br>\n",
        "model = Model()\n",
        "</font></tt><br><br>\n",
        "\n",
        "Alternatively we can use default arguments:\n",
        "\n",
        "<tt><font color=black>\n",
        "class Model(torch.nn.Module):<br>\n",
        "&nbsp;&nbsp;&nbsp;&nbsp;def \\_\\_init\\_\\_(self, in_dim=1, out_dim=1):<br>\n",
        "&nbsp;&nbsp;&nbsp;&nbsp;&nbsp;&nbsp;&nbsp;&nbsp;super().\\_\\_init\\_\\_()<br>\n",
        "&nbsp;&nbsp;&nbsp;&nbsp;&nbsp;&nbsp;&nbsp;&nbsp;self.linear = Linear(in_dim,out_dim)<br><br>\n",
        "model = Model()<br>\n",
        "<em>\\# or</em><br>\n",
        "model = Model(i,o)</font></tt>\n",
        "</div>"
      ]
    },
    {
      "cell_type": "markdown",
      "metadata": {
        "id": "M6ENyth2tw7W",
        "colab_type": "text"
      },
      "source": [
        "Now let's see the result when we pass a tensor into the model."
      ]
    },
    {
      "cell_type": "code",
      "metadata": {
        "id": "w9wdgiJCtxQH",
        "colab_type": "code",
        "colab": {
          "base_uri": "https://localhost:8080/",
          "height": 34
        },
        "outputId": "1efdd960-c041-4288-a195-4285bb6a252c"
      },
      "source": [
        "x = torch.tensor([2.0])\n",
        "\n",
        "print(model.forward(x))   # equivalent to print(model(x))"
      ],
      "execution_count": 10,
      "outputs": [
        {
          "output_type": "stream",
          "text": [
            "tensor([1.1758], grad_fn=<AddBackward0>)\n"
          ],
          "name": "stdout"
        }
      ]
    },
    {
      "cell_type": "markdown",
      "metadata": {
        "id": "f52dC_Zot0BP",
        "colab_type": "text"
      },
      "source": [
        "which is confirmed with  f(x)=(0.1060)(2.0)+(0.9638)=1.1758f(x)=(0.1060)(2.0)+(0.9638)=1.1758"
      ]
    },
    {
      "cell_type": "markdown",
      "metadata": {
        "id": "QLj4MsFYuCga",
        "colab_type": "text"
      },
      "source": [
        "## Plot the initial model\n",
        "We can plot the untrained model against our dataset to get an idea of our starting point."
      ]
    },
    {
      "cell_type": "code",
      "metadata": {
        "id": "n0RJSoiCuC06",
        "colab_type": "code",
        "colab": {
          "base_uri": "https://localhost:8080/",
          "height": 34
        },
        "outputId": "63ce8b00-f844-4b5e-f3fd-3c066d406959"
      },
      "source": [
        "x1 = np.array([X.min(),X.max()])\n",
        "print(x1)"
      ],
      "execution_count": 11,
      "outputs": [
        {
          "output_type": "stream",
          "text": [
            "[ 1. 50.]\n"
          ],
          "name": "stdout"
        }
      ]
    },
    {
      "cell_type": "code",
      "metadata": {
        "id": "h4JXd6OQuEBs",
        "colab_type": "code",
        "colab": {
          "base_uri": "https://localhost:8080/",
          "height": 68
        },
        "outputId": "fb4e86d5-08e0-4d26-961e-dc73f0026eec"
      },
      "source": [
        "w1,b1 = model.linear.weight.item(), model.linear.bias.item()\n",
        "\n",
        "print(f'Initial weight: {w1:.8f}, Initial bias: {b1:.8f}')\n",
        "print()\n",
        "\n",
        "y1 = x1*w1 + b1\n",
        "print(y1)"
      ],
      "execution_count": 12,
      "outputs": [
        {
          "output_type": "stream",
          "text": [
            "Initial weight: 0.10597813, Initial bias: 0.96379614\n",
            "\n",
            "[1.0697743 6.2627025]\n"
          ],
          "name": "stdout"
        }
      ]
    },
    {
      "cell_type": "code",
      "metadata": {
        "id": "2Eij4hiUuHIg",
        "colab_type": "code",
        "colab": {
          "base_uri": "https://localhost:8080/",
          "height": 295
        },
        "outputId": "eb19a4ac-ef1a-447a-960f-1767a0c89c49"
      },
      "source": [
        "plt.scatter(X.numpy(), y.numpy())\n",
        "\n",
        "plt.plot(x1,y1,'r')\n",
        "\n",
        "plt.title('Initial Model')\n",
        "\n",
        "plt.ylabel('y')\n",
        "plt.xlabel('x');"
      ],
      "execution_count": 13,
      "outputs": [
        {
          "output_type": "display_data",
          "data": {
            "image/png": "[encoded data removed]",
            "text/plain": [
              "<Figure size 432x288 with 1 Axes>"
            ]
          },
          "metadata": {
            "tags": []
          }
        }
      ]
    },
    {
      "cell_type": "markdown",
      "metadata": {
        "id": "NyKJ-AxPu5cc",
        "colab_type": "text"
      },
      "source": [
        "## Set the loss function\n",
        "We could write our own function to apply a Mean Squared Error (MSE) that follows<br>\n",
        "\n",
        "$\\begin{split}MSE &= \\frac {1} {n} \\sum_{i=1}^n {(y_i - \\hat y_i)}^2 \\\\\n",
        "&= \\frac {1} {n} \\sum_{i=1}^n {(y_i - (wx_i + b))}^2\\end{split}$<br>\n",
        "\n",
        "Fortunately PyTorch has it built in.<br>\n",
        "<em>By convention, you'll see the variable name \"criterion\" used, but feel free to use something like \"linear_loss_func\" if that's clearer.</em>"
      ]
    },
    {
      "cell_type": "code",
      "metadata": {
        "id": "SQMLeJjPu526",
        "colab_type": "code",
        "colab": {}
      },
      "source": [
        "criterion = nn.MSELoss()"
      ],
      "execution_count": 0,
      "outputs": []
    },
    {
      "cell_type": "markdown",
      "metadata": {
        "id": "xpH0bG7lu_Ju",
        "colab_type": "text"
      },
      "source": [
        "## Set the optimization\n",
        "Here we'll use <a href='https://en.wikipedia.org/wiki/Stochastic_gradient_descent'>Stochastic Gradient Descent</a> (SGD) with an applied <a href='https://en.wikipedia.org/wiki/Learning_rate'>learning rate</a> (lr) of 0.001. Recall that the learning rate tells the optimizer how much to adjust each parameter on the next round of calculations. Too large a step and we run the risk of overshooting the minimum, causing the algorithm to diverge. Too small and it will take a long time to converge.\n",
        "\n",
        "For more complicated (multivariate) data, you might also consider passing optional <a href='https://en.wikipedia.org/wiki/Stochastic_gradient_descent#Momentum'><tt>momentum</tt></a> and <a href='https://en.wikipedia.org/wiki/Tikhonov_regularization'><tt>weight_decay</tt></a> arguments. Momentum allows the algorithm to \"roll over\" small bumps to avoid local minima that can cause convergence too soon. Weight decay (also called an L2 penalty) applies to biases.\n",
        "\n",
        "For more information, see <a href='https://pytorch.org/docs/stable/optim.html'><strong><tt>torch.optim</tt></strong></a>"
      ]
    },
    {
      "cell_type": "code",
      "metadata": {
        "id": "qa9uCGpxu_fQ",
        "colab_type": "code",
        "colab": {}
      },
      "source": [
        "optimizer = torch.optim.SGD(model.parameters(), lr = 0.001)    # if lr is large then chance of overshooting the min., if small then it might take large time converge\n",
        "\n",
        "# You'll sometimes see this as\n",
        "# optimizer = torch.optim.SGD(model.parameters(), lr = 1e-3)"
      ],
      "execution_count": 0,
      "outputs": []
    },
    {
      "cell_type": "markdown",
      "metadata": {
        "id": "BNqUmbv7vPhU",
        "colab_type": "text"
      },
      "source": [
        "## Train the model\n",
        "An <em>epoch</em> is a single pass through the entire dataset. We want to pick a sufficiently large number of epochs to reach a plateau close to our known parameters of $\\mathrm {weight} = 2,\\; \\mathrm {bias} = 1$"
      ]
    },
    {
      "cell_type": "markdown",
      "metadata": {
        "id": "MmuwX0czvUNi",
        "colab_type": "text"
      },
      "source": [
        "<div class=\"alert alert-info\"><strong>Let's walk through the steps we're about to take:</strong><br>\n",
        "\n",
        "1. Set a reasonably large number of passes<br>\n",
        "<tt><font color=black>epochs = 50</font></tt><br>\n",
        "2. Create a list to store loss values. This will let us view our progress afterward.<br>\n",
        "<tt><font color=black>losses = []</font></tt><br>\n",
        "<tt><font color=black>for i in range(epochs):</font></tt><br>\n",
        "3. Bump \"i\" so that the printed report starts at 1<br>\n",
        "<tt><font color=black>&nbsp;&nbsp;&nbsp;&nbsp;i+=1</font></tt><br>\n",
        "4. Create a prediction set by running \"X\" through the current model parameters<br>\n",
        "<tt><font color=black>&nbsp;&nbsp;&nbsp;&nbsp;y_pred = model.forward(X)</font></tt><br>\n",
        "5. Calculate the loss<br>\n",
        "<tt><font color=black>&nbsp;&nbsp;&nbsp;&nbsp;loss = criterion(y_pred, y)</font></tt><br>\n",
        "6. Add the loss value to our tracking list<br>\n",
        "<tt><font color=black>&nbsp;&nbsp;&nbsp;&nbsp;losses.append(loss)</font></tt><br>\n",
        "7. Print the current line of results<br>\n",
        "<tt><font color=black>&nbsp;&nbsp;&nbsp;&nbsp;print(f'epoch: {i:2} loss: {loss.item():10.8f}')</font></tt><br>\n",
        "8. Gradients accumulate with every backprop. To prevent compounding we need to reset the stored gradient for each new epoch.<br>\n",
        "<tt><font color=black>&nbsp;&nbsp;&nbsp;&nbsp;optimizer.zero_grad()</font></tt><br>\n",
        "9. Now we can backprop<br>\n",
        "<tt><font color=black>&nbsp;&nbsp;&nbsp;&nbsp;loss.backward()</font></tt><br>\n",
        "10. Finally, we can update the hyperparameters of our model<br>\n",
        "<tt><font color=black>&nbsp;&nbsp;&nbsp;&nbsp;optimizer.step()</font></tt>\n",
        "</div>"
      ]
    },
    {
      "cell_type": "code",
      "metadata": {
        "id": "s--XvFbZvUkV",
        "colab_type": "code",
        "colab": {
          "base_uri": "https://localhost:8080/",
          "height": 867
        },
        "outputId": "29942ebe-4e7a-4ba2-94ce-4d30635f1502"
      },
      "source": [
        "epochs = 50     # an epoch is a snigle pass through the entire dataset\n",
        "losses = []\n",
        "\n",
        "\n",
        "for i in range(epochs):\n",
        "  \n",
        "    i += 1\n",
        "    \n",
        "    y_pred = model.forward(X)              # for each epoch we predict the y values\n",
        "    \n",
        "    loss = criterion(y_pred, y)            # then we predict the loss \n",
        "    \n",
        "    losses.append(loss)                    # append loss to the list   \n",
        "    \n",
        "    print(f'epoch: {i:2}  loss: {loss.item():10.8f}  weight: {model.linear.weight.item():10.8f}  \\\n",
        "bias: {model.linear.bias.item():10.8f}') \n",
        "    \n",
        "    \n",
        "    # the gradients accumulate with every back propagation, so to prevent compounding we need to reset the stored gradient for each new epoch\n",
        "    \n",
        "    optimizer.zero_grad()\n",
        "    \n",
        "    loss.backward()               # computes the gradients\n",
        "    \n",
        "    optimizer.step()              # updates the parameters(weight and bias term in this case)"
      ],
      "execution_count": 16,
      "outputs": [
        {
          "output_type": "stream",
          "text": [
            "epoch:  1  loss: 3057.21679688  weight: 0.10597813  bias: 0.96379614\n",
            "epoch:  2  loss: 1588.53076172  weight: 3.33490014  bias: 1.06046367\n",
            "epoch:  3  loss: 830.29986572  weight: 1.01483285  bias: 0.99226284\n",
            "epoch:  4  loss: 438.85214233  weight: 2.68179941  bias: 1.04252183\n",
            "epoch:  5  loss: 236.76144409  weight: 1.48402131  bias: 1.00766504\n",
            "epoch:  6  loss: 132.42912292  weight: 2.34460592  bias: 1.03396463\n",
            "epoch:  7  loss: 78.56572723  weight: 1.72622538  bias: 1.01632178\n",
            "epoch:  8  loss: 50.75775909  weight: 2.17050409  bias: 1.03025162\n",
            "epoch:  9  loss: 36.40123367  weight: 1.85124576  bias: 1.02149546\n",
            "epoch: 10  loss: 28.98922729  weight: 2.08060074  bias: 1.02903891\n",
            "epoch: 11  loss: 25.16238213  weight: 1.91576838  bias: 1.02487016\n",
            "epoch: 12  loss: 23.18647385  weight: 2.03416562  bias: 1.02911627\n",
            "epoch: 13  loss: 22.16612816  weight: 1.94905841  bias: 1.02731562\n",
            "epoch: 14  loss: 21.63911057  weight: 2.01017213  bias: 1.02985907\n",
            "epoch: 15  loss: 21.36677170  weight: 1.96622372  bias: 1.02928054\n",
            "epoch: 16  loss: 21.22591782  weight: 1.99776423  bias: 1.03094459\n",
            "epoch: 17  loss: 21.15294647  weight: 1.97506487  bias: 1.03099668\n",
            "epoch: 18  loss: 21.11501122  weight: 1.99133754  bias: 1.03220642\n",
            "epoch: 19  loss: 21.09517670  weight: 1.97960854  bias: 1.03258383\n",
            "epoch: 20  loss: 21.08468437  weight: 1.98799884  bias: 1.03355861\n",
            "epoch: 21  loss: 21.07901382  weight: 1.98193336  bias: 1.03410351\n",
            "epoch: 22  loss: 21.07583046  weight: 1.98625445  bias: 1.03495669\n",
            "epoch: 23  loss: 21.07393837  weight: 1.98311269  bias: 1.03558779\n",
            "epoch: 24  loss: 21.07269859  weight: 1.98533309  bias: 1.03637791\n",
            "epoch: 25  loss: 21.07181931  weight: 1.98370099  bias: 1.03705311\n",
            "epoch: 26  loss: 21.07110596  weight: 1.98483658  bias: 1.03781021\n",
            "epoch: 27  loss: 21.07048416  weight: 1.98398376  bias: 1.03850794\n",
            "epoch: 28  loss: 21.06991386  weight: 1.98455977  bias: 1.03924775\n",
            "epoch: 29  loss: 21.06936646  weight: 1.98410904  bias: 1.03995669\n",
            "epoch: 30  loss: 21.06883621  weight: 1.98439610  bias: 1.04068720\n",
            "epoch: 31  loss: 21.06830788  weight: 1.98415291  bias: 1.04140162\n",
            "epoch: 32  loss: 21.06778145  weight: 1.98429084  bias: 1.04212701\n",
            "epoch: 33  loss: 21.06726265  weight: 1.98415494  bias: 1.04284394\n",
            "epoch: 34  loss: 21.06674004  weight: 1.98421574  bias: 1.04356635\n",
            "epoch: 35  loss: 21.06622314  weight: 1.98413551  bias: 1.04428422\n",
            "epoch: 36  loss: 21.06570625  weight: 1.98415649  bias: 1.04500473\n",
            "epoch: 37  loss: 21.06518936  weight: 1.98410451  bias: 1.04572272\n",
            "epoch: 38  loss: 21.06466866  weight: 1.98410523  bias: 1.04644191\n",
            "epoch: 39  loss: 21.06415749  weight: 1.98406804  bias: 1.04715967\n",
            "epoch: 40  loss: 21.06363869  weight: 1.98405814  bias: 1.04787791\n",
            "epoch: 41  loss: 21.06312370  weight: 1.98402870  bias: 1.04859519\n",
            "epoch: 42  loss: 21.06260681  weight: 1.98401320  bias: 1.04931259\n",
            "epoch: 43  loss: 21.06209564  weight: 1.98398757  bias: 1.05002928\n",
            "epoch: 44  loss: 21.06157875  weight: 1.98396957  bias: 1.05074584\n",
            "epoch: 45  loss: 21.06106949  weight: 1.98394585  bias: 1.05146194\n",
            "epoch: 46  loss: 21.06055450  weight: 1.98392630  bias: 1.05217779\n",
            "epoch: 47  loss: 21.06004143  weight: 1.98390377  bias: 1.05289316\n",
            "epoch: 48  loss: 21.05953217  weight: 1.98388338  bias: 1.05360830\n",
            "epoch: 49  loss: 21.05901527  weight: 1.98386145  bias: 1.05432308\n",
            "epoch: 50  loss: 21.05850983  weight: 1.98384094  bias: 1.05503750\n"
          ],
          "name": "stdout"
        }
      ]
    },
    {
      "cell_type": "markdown",
      "metadata": {
        "id": "uuWrAfhCxVVm",
        "colab_type": "text"
      },
      "source": [
        "## Plot the loss values\n",
        "Let's see how loss changed over time"
      ]
    },
    {
      "cell_type": "code",
      "metadata": {
        "id": "VmbtFM-FxVub",
        "colab_type": "code",
        "colab": {
          "base_uri": "https://localhost:8080/",
          "height": 283
        },
        "outputId": "7e96a4ce-020b-46a2-85e2-35b00df00160"
      },
      "source": [
        "plt.plot(range(epochs), losses)\n",
        "\n",
        "plt.ylabel('MSE Loss')\n",
        "plt.xlabel('Epoch');"
      ],
      "execution_count": 18,
      "outputs": [
        {
          "output_type": "display_data",
          "data": {
            "image/png": "[encoded data removed]",
            "text/plain": [
              "<Figure size 432x288 with 1 Axes>"
            ]
          },
          "metadata": {
            "tags": []
          }
        }
      ]
    },
    {
      "cell_type": "markdown",
      "metadata": {
        "id": "zlbXTkfYxybU",
        "colab_type": "text"
      },
      "source": [
        "## Plot the result\n",
        "Now we'll derive <tt>y1</tt> from the new model to plot the most recent best-fit line."
      ]
    },
    {
      "cell_type": "code",
      "metadata": {
        "id": "oMoYQCUxxy9Y",
        "colab_type": "code",
        "colab": {
          "base_uri": "https://localhost:8080/",
          "height": 85
        },
        "outputId": "005a9ba6-efa8-43fd-ea71-73aaa5e6f551"
      },
      "source": [
        "w1,b1 = model.linear.weight.item(), model.linear.bias.item()\n",
        "print(f'Current weight: {w1:.8f}, Current bias: {b1:.8f}')\n",
        "print()\n",
        "\n",
        "y1 = x1*w1 + b1\n",
        "print(x1)\n",
        "print(y1)"
      ],
      "execution_count": 19,
      "outputs": [
        {
          "output_type": "stream",
          "text": [
            "Current weight: 1.98381913, Current bias: 1.05575156\n",
            "\n",
            "[ 1. 50.]\n",
            "[  3.0395708 100.246704 ]\n"
          ],
          "name": "stdout"
        }
      ]
    },
    {
      "cell_type": "code",
      "metadata": {
        "id": "aTIhXuGmx11I",
        "colab_type": "code",
        "colab": {
          "base_uri": "https://localhost:8080/",
          "height": 295
        },
        "outputId": "98d5dfde-2328-49fa-fb8b-b2c3973f179c"
      },
      "source": [
        "plt.scatter(X.numpy(), y.numpy())\n",
        "plt.plot(x1,y1,'r')\n",
        "plt.title('Current Model')\n",
        "plt.ylabel('y')\n",
        "plt.xlabel('x');"
      ],
      "execution_count": 20,
      "outputs": [
        {
          "output_type": "display_data",
          "data": {
            "image/png": "[encoded data removed]",
            "text/plain": [
              "<Figure size 432x288 with 1 Axes>"
            ]
          },
          "metadata": {
            "tags": []
          }
        }
      ]
    },
    {
      "cell_type": "code",
      "metadata": {
        "id": "I-J9r1UOx4ps",
        "colab_type": "code",
        "colab": {}
      },
      "source": [
        "x = np.linspace(0.0, 50.0, 50)\n",
        "\n",
        "current_weight = model.linear.weight.item()\n",
        "\n",
        "current_bias = model.linear.bias.item()\n",
        "\n",
        "predicted_y = current_weight*x + current_bias"
      ],
      "execution_count": 0,
      "outputs": []
    },
    {
      "cell_type": "code",
      "metadata": {
        "id": "H2CXKNaPyQJI",
        "colab_type": "code",
        "colab": {
          "base_uri": "https://localhost:8080/",
          "height": 238
        },
        "outputId": "3839d4b8-d7d7-49f3-8d66-a671d62905a0"
      },
      "source": [
        "predicted_y"
      ],
      "execution_count": 22,
      "outputs": [
        {
          "output_type": "execute_result",
          "data": {
            "text/plain": [
              "array([  1.05575156,   3.08005679,   5.10436203,   7.12866726,\n",
              "         9.15297249,  11.17727772,  13.20158295,  15.22588818,\n",
              "        17.25019342,  19.27449865,  21.29880388,  23.32310911,\n",
              "        25.34741434,  27.37171957,  29.39602481,  31.42033004,\n",
              "        33.44463527,  35.4689405 ,  37.49324573,  39.51755096,\n",
              "        41.5418562 ,  43.56616143,  45.59046666,  47.61477189,\n",
              "        49.63907712,  51.66338236,  53.68768759,  55.71199282,\n",
              "        57.73629805,  59.76060328,  61.78490851,  63.80921375,\n",
              "        65.83351898,  67.85782421,  69.88212944,  71.90643467,\n",
              "        73.9307399 ,  75.95504514,  77.97935037,  80.0036556 ,\n",
              "        82.02796083,  84.05226606,  86.07657129,  88.10087653,\n",
              "        90.12518176,  92.14948699,  94.17379222,  96.19809745,\n",
              "        98.22240268, 100.24670792])"
            ]
          },
          "metadata": {
            "tags": []
          },
          "execution_count": 22
        }
      ]
    },
    {
      "cell_type": "code",
      "metadata": {
        "id": "psVaQF_qyQ57",
        "colab_type": "code",
        "colab": {
          "base_uri": "https://localhost:8080/",
          "height": 295
        },
        "outputId": "90402a74-caf0-461e-b792-a841c777f28a"
      },
      "source": [
        "plt.scatter(X.numpy(), y.numpy())\n",
        "\n",
        "plt.plot(x, predicted_y, 'r')\n",
        "\n",
        "\n",
        "plt.title('Current Model')\n",
        "\n",
        "plt.ylabel('y')\n",
        "\n",
        "plt.xlabel('x');"
      ],
      "execution_count": 23,
      "outputs": [
        {
          "output_type": "display_data",
          "data": {
            "image/png": "[encoded data removed]",
            "text/plain": [
              "<Figure size 432x288 with 1 Axes>"
            ]
          },
          "metadata": {
            "tags": []
          }
        }
      ]
    },
    {
      "cell_type": "code",
      "metadata": {
        "id": "ONmDGMaXxYU2",
        "colab_type": "code",
        "colab": {}
      },
      "source": [
        ""
      ],
      "execution_count": 0,
      "outputs": []
    },
    {
      "cell_type": "code",
      "metadata": {
        "id": "NvK6pMKpvP8w",
        "colab_type": "code",
        "colab": {}
      },
      "source": [
        ""
      ],
      "execution_count": 0,
      "outputs": []
    },
    {
      "cell_type": "code",
      "metadata": {
        "id": "Nw0CkHbou9HI",
        "colab_type": "code",
        "colab": {}
      },
      "source": [
        ""
      ],
      "execution_count": 0,
      "outputs": []
    },
    {
      "cell_type": "code",
      "metadata": {
        "id": "PAVmApSpt0Vc",
        "colab_type": "code",
        "colab": {}
      },
      "source": [
        ""
      ],
      "execution_count": 0,
      "outputs": []
    },
    {
      "cell_type": "code",
      "metadata": {
        "id": "9riexPrQtvJo",
        "colab_type": "code",
        "colab": {}
      },
      "source": [
        ""
      ],
      "execution_count": 0,
      "outputs": []
    },
    {
      "cell_type": "code",
      "metadata": {
        "id": "5L6z4qn5sEOm",
        "colab_type": "code",
        "colab": {}
      },
      "source": [
        ""
      ],
      "execution_count": 0,
      "outputs": []
    },
    {
      "cell_type": "code",
      "metadata": {
        "id": "voz7sHJnr-Ld",
        "colab_type": "code",
        "colab": {}
      },
      "source": [
        ""
      ],
      "execution_count": 0,
      "outputs": []
    },
    {
      "cell_type": "code",
      "metadata": {
        "id": "3DZeBLLbr0Ru",
        "colab_type": "code",
        "colab": {}
      },
      "source": [
        ""
      ],
      "execution_count": 0,
      "outputs": []
    },
    {
      "cell_type": "code",
      "metadata": {
        "id": "rIybT8VZrtKX",
        "colab_type": "code",
        "colab": {}
      },
      "source": [
        ""
      ],
      "execution_count": 0,
      "outputs": []
    },
    {
      "cell_type": "code",
      "metadata": {
        "id": "42SXqEZ0rP7w",
        "colab_type": "code",
        "colab": {}
      },
      "source": [
        ""
      ],
      "execution_count": 0,
      "outputs": []
    },
    {
      "cell_type": "code",
      "metadata": {
        "id": "1btfh9KzrL-x",
        "colab_type": "code",
        "colab": {}
      },
      "source": [
        ""
      ],
      "execution_count": 0,
      "outputs": []
    },
    {
      "cell_type": "code",
      "metadata": {
        "id": "8OLVfmNsqbkV",
        "colab_type": "code",
        "colab": {}
      },
      "source": [
        ""
      ],
      "execution_count": 0,
      "outputs": []
    },
    {
      "cell_type": "code",
      "metadata": {
        "id": "roZkYJ_bo9P0",
        "colab_type": "code",
        "colab": {}
      },
      "source": [
        ""
      ],
      "execution_count": 0,
      "outputs": []
    }
  ]
}